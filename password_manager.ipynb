{
 "cells": [
  {
   "cell_type": "code",
   "execution_count": 102,
   "metadata": {},
   "outputs": [],
   "source": [
    "class Password:\n",
    "    def __init__(self, down_limit, up_limit, rule_letter, cipher):\n",
    "        self.down_limit = down_limit\n",
    "        self.up_limit = up_limit\n",
    "        self.rule_letter = rule_letter\n",
    "        self.cipher = cipher\n",
    "        \n",
    "    def is_valid(self, rule='num_of_appears'):\n",
    "        if rule == 'num_of_appears':\n",
    "            return self.down_limit <= self.cipher.count(self.rule_letter) <= self.up_limit\n",
    "        elif rule == 'positions':\n",
    "            return (self.cipher[self.down_limit-1]==self.rule_letter) ^ (self.cipher[self.up_limit-1]==self.rule_letter)\n",
    "    def __repr__(self):\n",
    "        return f'{self.cipher}'"
   ]
  },
  {
   "cell_type": "code",
   "execution_count": 103,
   "metadata": {},
   "outputs": [],
   "source": [
    "p1 = Password(1,3,'a','abcde')\n",
    "passw = 'abcde'\n",
    "d = 1\n",
    "u = 3\n",
    "lett = 'a'"
   ]
  },
  {
   "cell_type": "code",
   "execution_count": 104,
   "metadata": {},
   "outputs": [
    {
     "data": {
      "text/plain": [
       "True"
      ]
     },
     "execution_count": 104,
     "metadata": {},
     "output_type": "execute_result"
    }
   ],
   "source": [
    "p1.is_valid(rule='positions')"
   ]
  },
  {
   "cell_type": "code",
   "execution_count": 105,
   "metadata": {},
   "outputs": [
    {
     "data": {
      "text/plain": [
       "abcde"
      ]
     },
     "execution_count": 105,
     "metadata": {},
     "output_type": "execute_result"
    }
   ],
   "source": [
    "with open('imefajla.txt','r') as ime_promjenljive:\n",
    "    ## obrada fajla...\n",
    "    ## obrada fajla...\n",
    "    ## obrada fajla...\n",
    "    ## obrada fajla...\n",
    "    ## obrada fajla...\n",
    "    ## obrada fajla...\n"
   ]
  },
  {
   "cell_type": "code",
   "execution_count": 98,
   "metadata": {},
   "outputs": [],
   "source": [
    "class PasswordExportScraper:\n",
    "    def __init__(self, db_export_filename):        \n",
    "        airport_db = open(db_export_filename, 'r')\n",
    "        self.password_list = [ password.strip() for password in airport_db.readlines() ]\n",
    "        airport_db.close()\n",
    "        \n",
    "    def password_string_list_to_objects_list(self):\n",
    "        password_objects_list = []\n",
    "        for password in self.password_list:\n",
    "            rule, cipher = password.split(\": \")\n",
    "            limits, rule_letter = rule.split(\" \")\n",
    "            down_limit, up_limit = limits.split(\"-\")\n",
    "            down_limit = int(down_limit)\n",
    "            up_limit = int(up_limit)\n",
    "            curr_password = Password(down_limit, up_limit, rule_letter, cipher)\n",
    "            \n",
    "            password_objects_list.append(curr_password)\n",
    "        return password_objects_list"
   ]
  },
  {
   "cell_type": "code",
   "execution_count": 99,
   "metadata": {},
   "outputs": [],
   "source": [
    "def count_valid_passwords(passwords_object_list):\n",
    "    number_of_valid_password = 0\n",
    "    for password in passwords_object_list:\n",
    "        if password.is_valid('positions'):\n",
    "            number_of_valid_password += 1\n",
    "    return number_of_valid_password"
   ]
  },
  {
   "cell_type": "code",
   "execution_count": 100,
   "metadata": {},
   "outputs": [],
   "source": [
    "pes = PasswordExportScraper('airport_db.txt')"
   ]
  },
  {
   "cell_type": "code",
   "execution_count": 101,
   "metadata": {},
   "outputs": [
    {
     "data": {
      "text/plain": [
       "342"
      ]
     },
     "execution_count": 101,
     "metadata": {},
     "output_type": "execute_result"
    }
   ],
   "source": [
    "count_valid_passwords(pes.password_string_list_to_objects_list())"
   ]
  },
  {
   "cell_type": "code",
   "execution_count": null,
   "metadata": {},
   "outputs": [],
   "source": []
  }
 ],
 "metadata": {
  "kernelspec": {
   "display_name": "Python 3",
   "language": "python",
   "name": "python3"
  },
  "language_info": {
   "codemirror_mode": {
    "name": "ipython",
    "version": 3
   },
   "file_extension": ".py",
   "mimetype": "text/x-python",
   "name": "python",
   "nbconvert_exporter": "python",
   "pygments_lexer": "ipython3",
   "version": "3.6.9"
  }
 },
 "nbformat": 4,
 "nbformat_minor": 4
}
